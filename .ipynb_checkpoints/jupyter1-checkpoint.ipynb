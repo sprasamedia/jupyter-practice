{
 "cells": [
  {
   "cell_type": "code",
   "execution_count": null,
   "id": "eb19fae2",
   "metadata": {},
   "outputs": [],
   "source": [
    "%matplot inline \n",
    "import numpy as np\n",
    "import pandas as pd\n",
    "import matplotlib.pyplot aas plt \n",
    "plt.rcParams['figure.figuresize']=(15.0,12.0)\n",
    "\n",
    "#read data \n",
    "data=pd.read_csv()"
   ]
  }
 ],
 "metadata": {
  "kernelspec": {
   "display_name": "Python 3 (ipykernel)",
   "language": "python",
   "name": "python3"
  },
  "language_info": {
   "codemirror_mode": {
    "name": "ipython",
    "version": 3
   },
   "file_extension": ".py",
   "mimetype": "text/x-python",
   "name": "python",
   "nbconvert_exporter": "python",
   "pygments_lexer": "ipython3",
   "version": "3.11.4"
  }
 },
 "nbformat": 4,
 "nbformat_minor": 5
}
